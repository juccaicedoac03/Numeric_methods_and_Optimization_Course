{
  "nbformat": 4,
  "nbformat_minor": 0,
  "metadata": {
    "colab": {
      "provenance": [],
      "authorship_tag": "ABX9TyOujNas/ZYT8xCpajCnGgTp",
      "include_colab_link": true
    },
    "kernelspec": {
      "name": "python3",
      "display_name": "Python 3"
    },
    "language_info": {
      "name": "python"
    }
  },
  "cells": [
    {
      "cell_type": "markdown",
      "metadata": {
        "id": "view-in-github",
        "colab_type": "text"
      },
      "source": [
        "<a href=\"https://colab.research.google.com/github/juccaicedoac03/Numeric_methods_and_Optimization_Course/blob/main/2_Ajuste_de_curvas/Taller_Regresi%C3%B3n.ipynb\" target=\"_parent\"><img src=\"https://colab.research.google.com/assets/colab-badge.svg\" alt=\"Open In Colab\"/></a>"
      ]
    },
    {
      "cell_type": "markdown",
      "source": [
        "# Importar librerías"
      ],
      "metadata": {
        "id": "mhQ8ZYTG5qhk"
      }
    },
    {
      "cell_type": "code",
      "source": [
        "import numpy as np\n",
        "import pandas as pd\n",
        "import matplotlib.pyplot as plt"
      ],
      "metadata": {
        "id": "Um5Yf1-r5iGE"
      },
      "execution_count": 2,
      "outputs": []
    },
    {
      "cell_type": "markdown",
      "source": [
        "# 1. Crear una función que realice el ajuste de cualquier conjunto de datos, tanto univariados como multivariados con respecto una variable objetivo (dependiente) de manera lineal.\n",
        "\n",
        "TIP: Función para regresión munivariada y multivariada"
      ],
      "metadata": {
        "id": "DyzNdWMgtjLo"
      }
    },
    {
      "cell_type": "code",
      "execution_count": null,
      "metadata": {
        "id": "4DUtzUQVtcsu"
      },
      "outputs": [],
      "source": [
        "def linear_regression():    \n",
        "    # La función debe recibir los datos \"X\" y el vector objetivo \"y\" y devolver los pesos W"
      ]
    },
    {
      "cell_type": "markdown",
      "source": [
        "# 2. Crear una función que permita graficar cualquier tipo de regresión.\n",
        "\n",
        "TIP: La función deberá graficar solo 2 variables y el usuario debería poder seleccionarlas. Una de ellas es deberá ser la variable objetivo (variable dependiente)"
      ],
      "metadata": {
        "id": "4dX0PN99uzp8"
      }
    },
    {
      "cell_type": "code",
      "source": [
        "def plot_regression():\n",
        "    # La función debe recibir los datos \"X\", el vector objetivo \"y\" y los pesos \"W\" calculados\n",
        "    # y debe graficar la dispersión de los datos y la recta obtenida a partir de los pesos \"W\""
      ],
      "metadata": {
        "id": "sW0txoS1yF8V"
      },
      "execution_count": null,
      "outputs": []
    },
    {
      "cell_type": "markdown",
      "source": [
        "# 3. Realizar una regresión lineal 1D utilizando la siguiente base de datos. Mostrar los resultados en una gráfica y hacer print de los pesos encontrados.\n",
        "\n",
        "TIP: Usar las funciones anteriormente creadas."
      ],
      "metadata": {
        "id": "bOwCvnY0z7kx"
      }
    },
    {
      "cell_type": "code",
      "source": [
        "!gdown 1kC9oD2YK38Wd4OSJEMZjdDZtbW_XWGcv"
      ],
      "metadata": {
        "colab": {
          "base_uri": "https://localhost:8080/"
        },
        "id": "2agGV_QAz67I",
        "outputId": "685e1b25-a650-4b97-842e-b72a735c18e1"
      },
      "execution_count": 1,
      "outputs": [
        {
          "output_type": "stream",
          "name": "stdout",
          "text": [
            "Downloading...\n",
            "From: https://drive.google.com/uc?id=1kC9oD2YK38Wd4OSJEMZjdDZtbW_XWGcv\n",
            "To: /content/linear-regression-dataset.csv\n",
            "\r  0% 0.00/121 [00:00<?, ?B/s]\r100% 121/121 [00:00<00:00, 193kB/s]\n"
          ]
        }
      ]
    },
    {
      "cell_type": "markdown",
      "source": [
        "TIP: Para Cargar la base de datos usamos Pandas"
      ],
      "metadata": {
        "id": "gyF12zrb5uuS"
      }
    },
    {
      "cell_type": "code",
      "source": [
        "data = pd.read_csv('/content/linear-regression-dataset.csv').to_numpy()"
      ],
      "metadata": {
        "id": "uSij2nB45bDK"
      },
      "execution_count": 6,
      "outputs": []
    },
    {
      "cell_type": "markdown",
      "source": [
        "**Tomar como variable objetivo la segunda columna**"
      ],
      "metadata": {
        "id": "TUOjc_Y76Ni7"
      }
    },
    {
      "cell_type": "code",
      "source": [
        "data"
      ],
      "metadata": {
        "colab": {
          "base_uri": "https://localhost:8080/"
        },
        "id": "fOctmLQ06B7r",
        "outputId": "b3c23ecc-43fd-4187-d509-01ebe8ce1115"
      },
      "execution_count": 9,
      "outputs": [
        {
          "output_type": "execute_result",
          "data": {
            "text/plain": [
              "array([[5.00e-01, 2.50e+03],\n",
              "       [0.00e+00, 2.25e+03],\n",
              "       [1.00e+00, 2.75e+03],\n",
              "       [5.00e+00, 8.00e+03],\n",
              "       [8.00e+00, 9.00e+03],\n",
              "       [4.00e+00, 6.90e+03],\n",
              "       [1.50e+01, 2.00e+04],\n",
              "       [7.00e+00, 8.50e+03],\n",
              "       [3.00e+00, 6.00e+03],\n",
              "       [2.00e+00, 3.50e+03],\n",
              "       [1.20e+01, 1.50e+04],\n",
              "       [1.00e+01, 1.30e+04],\n",
              "       [1.40e+01, 1.80e+04],\n",
              "       [6.00e+00, 7.50e+03]])"
            ]
          },
          "metadata": {},
          "execution_count": 9
        }
      ]
    },
    {
      "cell_type": "code",
      "source": [],
      "metadata": {
        "id": "URXISM4A7Zgq"
      },
      "execution_count": null,
      "outputs": []
    },
    {
      "cell_type": "markdown",
      "source": [
        "# 4. Realizar una regresión lineal en múltiples dimensiones utilizando la siguiente base de datos. Mostrar los resultados en una gráfica (una para cada par de variables) y hacer print de los pesos encontrados.\n",
        "\n",
        "TIP: Usar las funciones anteriormente creadas."
      ],
      "metadata": {
        "id": "ihnbecLP69TM"
      }
    },
    {
      "cell_type": "code",
      "source": [
        "!gdown 14U5UZk-EtYGVponldCxh1cKy-09qG9Wh"
      ],
      "metadata": {
        "colab": {
          "base_uri": "https://localhost:8080/"
        },
        "id": "_zBaJ7CX6K9t",
        "outputId": "2880e16a-3c02-4583-cab7-41c5c60d59ba"
      },
      "execution_count": 10,
      "outputs": [
        {
          "output_type": "stream",
          "name": "stdout",
          "text": [
            "Downloading...\n",
            "From: https://drive.google.com/uc?id=14U5UZk-EtYGVponldCxh1cKy-09qG9Wh\n",
            "To: /content/multiple-linear-regression-dataset.csv\n",
            "\r  0% 0.00/167 [00:00<?, ?B/s]\r100% 167/167 [00:00<00:00, 293kB/s]\n"
          ]
        }
      ]
    },
    {
      "cell_type": "markdown",
      "source": [
        "Cargamos los datos con pandas"
      ],
      "metadata": {
        "id": "nYCLIKQP7edX"
      }
    },
    {
      "cell_type": "code",
      "source": [
        "data = pd.read_csv('/content/multiple-linear-regression-dataset.csv').to_numpy()"
      ],
      "metadata": {
        "id": "XAkNW0H_7bW4"
      },
      "execution_count": 19,
      "outputs": []
    },
    {
      "cell_type": "markdown",
      "source": [
        "**Tomar como variable objetivo la segunda columna**"
      ],
      "metadata": {
        "id": "hWU_bhw2_Cy1"
      }
    },
    {
      "cell_type": "code",
      "source": [
        "data"
      ],
      "metadata": {
        "colab": {
          "base_uri": "https://localhost:8080/"
        },
        "id": "rJB1Gt9I7iTm",
        "outputId": "1137f6f6-b37d-41e2-865c-ec4af6be7346"
      },
      "execution_count": 20,
      "outputs": [
        {
          "output_type": "execute_result",
          "data": {
            "text/plain": [
              "array([[5.00e-01, 2.50e+03, 2.20e+01],\n",
              "       [0.00e+00, 2.25e+03, 2.10e+01],\n",
              "       [1.00e+00, 2.75e+03, 2.30e+01],\n",
              "       [5.00e+00, 8.00e+03, 2.50e+01],\n",
              "       [8.00e+00, 9.00e+03, 2.80e+01],\n",
              "       [4.00e+00, 6.90e+03, 2.30e+01],\n",
              "       [1.50e+01, 2.00e+04, 3.50e+01],\n",
              "       [7.00e+00, 8.50e+03, 2.90e+01],\n",
              "       [3.00e+00, 6.00e+03, 2.20e+01],\n",
              "       [2.00e+00, 3.50e+03, 2.30e+01],\n",
              "       [1.20e+01, 1.50e+04, 3.20e+01],\n",
              "       [1.00e+01, 1.30e+04, 3.00e+01],\n",
              "       [1.40e+01, 1.80e+04, 3.40e+01],\n",
              "       [6.00e+00, 7.50e+03, 2.70e+01]])"
            ]
          },
          "metadata": {},
          "execution_count": 20
        }
      ]
    },
    {
      "cell_type": "code",
      "source": [],
      "metadata": {
        "id": "upjSeeBmCnJH"
      },
      "execution_count": null,
      "outputs": []
    },
    {
      "cell_type": "markdown",
      "source": [
        "# 5. Realizar una regresión lineal 1D con cada una de las variables, y una regresión lineal múltiple con todas las variables independientes. Realizar una gráfica para cada regresión y decir que conclusión puede sacar. Mostrar los pesos encontrados en cada ejercicio.\n",
        "\n",
        "TIP: Usar las funciones anteriormente creadas."
      ],
      "metadata": {
        "id": "2eSYOxoj_KTh"
      }
    },
    {
      "cell_type": "code",
      "source": [
        "!gdown 12kxmPukxW5dyvQGKk3mOEXCCcgoNNa7t"
      ],
      "metadata": {
        "colab": {
          "base_uri": "https://localhost:8080/"
        },
        "id": "76Q-w_0q7i9o",
        "outputId": "9706fdd5-a21a-41e3-b64d-ef855337beb8"
      },
      "execution_count": 21,
      "outputs": [
        {
          "output_type": "stream",
          "name": "stdout",
          "text": [
            "Downloading...\n",
            "From: https://drive.google.com/uc?id=12kxmPukxW5dyvQGKk3mOEXCCcgoNNa7t\n",
            "To: /content/insurance.csv\n",
            "\r  0% 0.00/55.6k [00:00<?, ?B/s]\r100% 55.6k/55.6k [00:00<00:00, 50.3MB/s]\n"
          ]
        }
      ]
    },
    {
      "cell_type": "markdown",
      "source": [
        "Cargamos los datos con pandas"
      ],
      "metadata": {
        "id": "_HrrH8eRB7q_"
      }
    },
    {
      "cell_type": "code",
      "source": [
        "data = pd.read_csv('/content/insurance.csv').drop(columns=['sex','smoker','region']).to_numpy()"
      ],
      "metadata": {
        "id": "C_ccrLjUB4PY"
      },
      "execution_count": 29,
      "outputs": []
    },
    {
      "cell_type": "code",
      "source": [
        "data.shape"
      ],
      "metadata": {
        "colab": {
          "base_uri": "https://localhost:8080/"
        },
        "id": "erZFCHvLCHAk",
        "outputId": "f771e581-6f70-4468-a264-a1366ea9a3fe"
      },
      "execution_count": 32,
      "outputs": [
        {
          "output_type": "execute_result",
          "data": {
            "text/plain": [
              "(1338, 4)"
            ]
          },
          "metadata": {},
          "execution_count": 32
        }
      ]
    },
    {
      "cell_type": "code",
      "source": [],
      "metadata": {
        "id": "M1Vi3XShCH3b"
      },
      "execution_count": null,
      "outputs": []
    }
  ]
}