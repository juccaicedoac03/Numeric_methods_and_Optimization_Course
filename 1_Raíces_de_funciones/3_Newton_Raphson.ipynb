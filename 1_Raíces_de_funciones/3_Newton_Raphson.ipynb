{
  "nbformat": 4,
  "nbformat_minor": 0,
  "metadata": {
    "colab": {
      "name": "3_Newton-Raphson.ipynb",
      "provenance": [],
      "authorship_tag": "ABX9TyOJUtex5pnY6BVJB7IuIE/U",
      "include_colab_link": true
    },
    "kernelspec": {
      "name": "python3",
      "display_name": "Python 3"
    },
    "language_info": {
      "name": "python"
    }
  },
  "cells": [
    {
      "cell_type": "markdown",
      "metadata": {
        "id": "view-in-github",
        "colab_type": "text"
      },
      "source": [
        "<a href=\"https://colab.research.google.com/github/juccaicedoac03/Numeric_methods_and_Optimization_Course/blob/main/1_Ra%C3%ADces_de_funciones/3_Newton_Raphson.ipynb\" target=\"_parent\"><img src=\"https://colab.research.google.com/assets/colab-badge.svg\" alt=\"Open In Colab\"/></a>"
      ]
    },
    {
      "cell_type": "markdown",
      "source": [
        "# Método de Newton-Raphson"
      ],
      "metadata": {
        "id": "cMGisIthjOFW"
      }
    },
    {
      "cell_type": "markdown",
      "source": [
        "**Background:** \n",
        "\n",
        "los *métodos abiertos* descritos a continuación se basan en fórmulas que requieren únicamente de un solo valor de inicio $x$ o que empiecen con un par de ellos, pero que no necesariamente encierran la raíz. Éstos, algunas veces **divergen** o se alejan de la raíz verdadera a medida que se avanza en el cálculo. Sin embargo, cuando los métodos abiertos **convergen**, en general lo hacen mucho más rápido que los métodos cerrados.\n",
        "\n",
        "\\\\\n",
        "\n",
        "**Clave:** \n",
        "\n",
        "Asumiendo que el valor inicial para la raíz es $x_i$, entonces se puede trazar una tangente desde el punto $[xi_i, f(x_i)]$ de la curva, y el punto donde esta *tangente* cruza al eje x representa una aproximación mejorada de la raíz.\n",
        "\n",
        "\\\\\n",
        "\n",
        "<img src=\"https://github.com/juccaicedoac03/Numeric_methods_and_Optimization_Course/blob/main/1_Ra%C3%ADces_de_funciones/Figs/newton.png?raw=true:, width=100\" alt=\"find roots\" width=400>\n",
        "\n",
        "\\\\\n",
        "Sabemos que la primera derivada de $x$ corresponde a la pendiente así: \n",
        "\n",
        "$$ f'(x_{i}) = \\frac{f(x_{i}) - 0}{x_{i} - x_{i+1}}$$\n",
        "\n",
        "De donde obtenemos la **fórmula de Newton-Raphson**: \n",
        "\n",
        "\\\\\n",
        "$$ x_{i+1} = x_{i} - \\frac{f(x_{i})}{f'(x_{i})} $$\n",
        "\n",
        "\\\\\n",
        "El valor de $x_r$ calculado con la ecuación, reemplazará, después, a cualquiera de los dos valores iniciales, $x_l$ o $x_u$, y da un valor de la función con el mismo signo de $f(x_r)$. De esta manera, los valores $x_l$ y $x_u$ siempre encierran la verdadera raíz. \n",
        "\n",
        "\n",
        "\\\\\n",
        "**Solución:** \n",
        "\n",
        "El algoritmo onsta de un ciclo que calcula en forma iterativa nuevas aproximaciones hasta satisfacer el criterio de terminación $\\epsilon_a$.\n",
        "\n",
        "$$ \\epsilon_a = \\bigg| \\frac{x_{i+1}-x{i}}{x_{i+1}} \\bigg| \\cdot 100\\% $$\n",
        "\n",
        "\\\\\n",
        "**Ejercicio:** Demuestre que el error es igual a: \n",
        "\n",
        "$$ E_{t,i+1} = \\frac{-f''(x_{r})}{2f'(x_{r})}E_{t,i}^{2}$$\n",
        "\n",
        "\\\\\n",
        "**Desventajas:** \n",
        "\n",
        "Aunque en general el método de Newton-Raphson es muy eficiente, hay situaciones donde se comporta de manera contraria. Por ejemplo en el caso especial de raíces múltiples y en algunos casos em los que se desea encontrar raíces simples como por ejemlo en: $f(x) = x^{10} - 1$\n",
        "\n",
        "Algunos ejemplos de convergencia deficiente\n",
        "\n",
        "\\\\\n",
        "\n",
        "<img src=\"https://github.com/juccaicedoac03/Numeric_methods_and_Optimization_Course/blob/main/1_Ra%C3%ADces_de_funciones/Figs/div.png?raw=true:, width=100\" alt=\"find roots\" width=400>\n",
        "\n",
        "\\\\\n",
        "*En el código:* \n",
        "\n",
        "1. Se debe calcular la primera derivada mediante una función.\n",
        "\n",
        "2. Al final de los cálculos, se necesitará sustituir siempre la raíz final calculada en la\n",
        "función original, para determinar si el resultado se acerca a cero. Esta prueba protege el desarrollo del programa contra aquellos casos en los que se presenta convergencia lenta u oscilatoria, la cual puede llevar a valores pequeños de $\\epsilon_a$, mientras que la solución aún está muy lejos de una raíz.\n",
        "\n",
        "3. El programa deberá incluir siempre un límite máximo permitido del número de iteraciones para estar prevenidos contra soluciones oscilantes, de lenta convergencia o divergentes que podrían persistir en forma interminable.\n",
        "\n",
        "4. El programa deberá alertar al usuario para que tome en cuenta la posibilidad de que $f'(x)$ sea igual a cero en cualquier momento durante el cálculo."
      ],
      "metadata": {
        "id": "W1ccl6SOkHhV"
      }
    },
    {
      "cell_type": "markdown",
      "source": [
        "# Algoritmo"
      ],
      "metadata": {
        "id": "hESlPNcOgvy-"
      }
    },
    {
      "cell_type": "code",
      "execution_count": 1,
      "metadata": {
        "id": "1tEjKf-ei9dy"
      },
      "outputs": [],
      "source": [
        "import numpy as np\n",
        "import matplotlib.pyplot as plt"
      ]
    },
    {
      "cell_type": "code",
      "source": [
        "def fn(x): # Creamos la función \n",
        "    return np.exp(-x)-x"
      ],
      "metadata": {
        "id": "tBJL-LHHg1LC"
      },
      "execution_count": 5,
      "outputs": []
    },
    {
      "cell_type": "code",
      "source": [
        "def dfn1(x):\n",
        "    return -np.exp(-x)-1"
      ],
      "metadata": {
        "id": "BqHcMq1PiCMu"
      },
      "execution_count": 8,
      "outputs": []
    },
    {
      "cell_type": "code",
      "source": [
        "X = np.arange(0,1,0.05)"
      ],
      "metadata": {
        "id": "m2zRiFYmhAg7"
      },
      "execution_count": 6,
      "outputs": []
    },
    {
      "cell_type": "code",
      "source": [
        "plt.plot(X,fn(X))\n",
        "#plt.xlim([-0.1,1.5])\n",
        "#plt.ylim([-2,15])\n",
        "plt.grid(True)\n",
        "plt.show()"
      ],
      "metadata": {
        "colab": {
          "base_uri": "https://localhost:8080/",
          "height": 265
        },
        "id": "EN8k7KUahO2U",
        "outputId": "af68b35f-1f58-44a7-f4c0-b9408a76891b"
      },
      "execution_count": 7,
      "outputs": [
        {
          "output_type": "display_data",
          "data": {
            "text/plain": [
              "<Figure size 432x288 with 1 Axes>"
            ],
            "image/png": "[encoded data removed]"
          },
          "metadata": {
            "needs_background": "light"
          }
        }
      ]
    },
    {
      "cell_type": "code",
      "source": [
        "def gn(x,f,df):\n",
        "    return x-(f(x)/df(x))"
      ],
      "metadata": {
        "id": "I6EBmWrLigsD"
      },
      "execution_count": 10,
      "outputs": []
    },
    {
      "cell_type": "code",
      "source": [
        "# parámetros iniciales\n",
        "\n",
        "x0 = 0\n",
        "\n",
        "es = 1e-8\n",
        "imax = 15\n",
        "\n",
        "# algoritmo iterativo\n",
        "\n",
        "ea = 100\n",
        "\n",
        "iter = 0\n",
        "\n",
        "xr = x0\n",
        "\n",
        "print('Iter: {}  x_r: {}  E_a: {}'.format(iter , np.round(xr,5), np.round(ea,5)))\n",
        "\n",
        "while (ea > es) and (iter <= imax):\n",
        "\n",
        "    xrold = xr\n",
        "    xr = gn(xr,fn,dfn1)\n",
        "\n",
        "    iter += 1\n",
        "    \n",
        "    if xr != 0:\n",
        "        ea = abs((xr-xrold)/xr) * 100\n",
        "    \n",
        "\n",
        "    print('Iter: {}  x_r: {}  E_a: {}'.format(iter , np.round(xr,5), np.round(ea,5)))\n"
      ],
      "metadata": {
        "colab": {
          "base_uri": "https://localhost:8080/"
        },
        "id": "2-Ms4cY0hRcS",
        "outputId": "40aa1d94-3968-43c0-9ea4-082c944c19ac"
      },
      "execution_count": 22,
      "outputs": [
        {
          "output_type": "stream",
          "name": "stdout",
          "text": [
            "Iter: 0  x_r: 0  E_a: 100\n",
            "Iter: 1  x_r: 0.5  E_a: 100.0\n",
            "Iter: 2  x_r: 0.56631  E_a: 11.70929\n",
            "Iter: 3  x_r: 0.56714  E_a: 0.14673\n",
            "Iter: 4  x_r: 0.56714  E_a: 2e-05\n",
            "Iter: 5  x_r: 0.56714  E_a: 0.0\n"
          ]
        }
      ]
    },
    {
      "cell_type": "markdown",
      "source": [
        "**Ejercicio:** Crear una función que encuentre las raíz de una función a través del método de Newton-Raphson. La función debe cumplir las especificaciones anteriormente mencionadas."
      ],
      "metadata": {
        "id": "nZAOqSqiojFj"
      }
    },
    {
      "cell_type": "code",
      "source": [],
      "metadata": {
        "id": "VgHihGMSk7ot"
      },
      "execution_count": null,
      "outputs": []
    },
    {
      "cell_type": "markdown",
      "source": [
        "**Ejercicio:** Usar la función creada anteriormente para encontrar la raíz de la función $f(x) = x^{10} - 1$ y decir que se puede concluir."
      ],
      "metadata": {
        "id": "nDAb-bI8ozEJ"
      }
    },
    {
      "cell_type": "code",
      "source": [],
      "metadata": {
        "id": "xv7hMO8foyzd"
      },
      "execution_count": null,
      "outputs": []
    }
  ]
}